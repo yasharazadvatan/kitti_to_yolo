{
 "cells": [
  {
   "cell_type": "code",
   "execution_count": 1,
   "id": "a4a053df-745f-4eea-98f4-343b57c8523b",
   "metadata": {},
   "outputs": [],
   "source": [
    "import os\n",
    "import glob as glob\n",
    "import cv2"
   ]
  },
  {
   "cell_type": "code",
   "execution_count": 2,
   "id": "ebc54ac8-7f98-46be-b911-2cba02970ace",
   "metadata": {},
   "outputs": [],
   "source": [
    "# set the path\n",
    "images_path='./dataset/training/image_2/*'\n",
    "labels_path='./dataset/training/label_2/*'\n",
    "# new path for saving YOLO Labels\n",
    "new_label_files_path='./dataset/training/YOLO_label/'"
   ]
  },
  {
   "cell_type": "code",
   "execution_count": 3,
   "id": "3ddf2395-18ba-40f8-82e2-0171825bd39b",
   "metadata": {},
   "outputs": [
    {
     "data": {
      "text/plain": [
       "7481"
      ]
     },
     "execution_count": 3,
     "metadata": {},
     "output_type": "execute_result"
    }
   ],
   "source": [
    "images = glob.glob(images_path)\n",
    "labels = glob.glob(labels_path)\n",
    "images.sort()\n",
    "labels.sort()\n",
    "labels_len = len(labels) \n",
    "labels_len"
   ]
  },
  {
   "cell_type": "code",
   "execution_count": 4,
   "id": "9f0a7f2d-81bf-458b-9b40-c5391372f9f5",
   "metadata": {},
   "outputs": [],
   "source": [
    "for i in range(labels_len):\n",
    "    with open(labels[i], 'r') as f:\n",
    "        file_name = labels[i].split('/')[5]\n",
    "        image_path = images[i]\n",
    "        img = cv2.imread(image_path)\n",
    "        height, width,_=img.shape   \n",
    "        new_line = ''\n",
    "        file_new_lines = []\n",
    "        label_lines = f.readlines()\n",
    "        for label_line in label_lines:\n",
    "            split_line = label_line.split(' ') \n",
    "            class_index = 8\n",
    "            if split_line[0] == 'Car':\n",
    "                class_index = 0\n",
    "            elif split_line[0] == 'Van':\n",
    "                class_index = 1\n",
    "            elif split_line[0] == 'Truck':\n",
    "                class_index = 2\n",
    "            elif split_line[0] == 'Pedestrian':\n",
    "                class_index = 3\n",
    "            elif split_line[0] == 'Person_sitting':\n",
    "                class_index = 4\n",
    "            elif split_line[0] == 'Cyclist':\n",
    "                class_index = 5\n",
    "            elif split_line[0] == 'Tram':\n",
    "                class_index = 6\n",
    "            elif split_line[0] == 'Misc':\n",
    "                class_index = 7\n",
    "            else:\n",
    "                class_index = 8 \n",
    "                \n",
    "            left = float(split_line[4])\n",
    "            top = float(split_line[5])\n",
    "            right = float(split_line[6])\n",
    "            bottom = float(split_line[7])\n",
    "              \n",
    "            x = (left + right) / 2.0\n",
    "            y = (top + bottom) / 2.0\n",
    "            w = right - left\n",
    "            h = bottom - top\n",
    "            x = x / width\n",
    "            w = w / width\n",
    "            y = y / height\n",
    "            h = h / height \n",
    "             \n",
    "            new_line = '{0} {1} {2} {3} {4}\\n'.format(class_index, x, y, w, h) \n",
    "            # print(new_line)\n",
    "            \n",
    "            new_path = '{0}{1}'.format(new_label_files_path,file_name)\n",
    "            # print(new_path)\n",
    "            \n",
    "            check_file = os.path.isfile(new_path) \n",
    "            if check_file == False:\n",
    "                with open(new_path, 'w') as new_file:\n",
    "                    new_file.write(new_line)\n",
    "            else:\n",
    "                with open(new_path, 'a') as new_file:\n",
    "                    new_file.write(new_line)\n",
    "            "
   ]
  },
  {
   "cell_type": "code",
   "execution_count": null,
   "id": "0c58d382-01f1-4c71-b7b5-42a62423e6b1",
   "metadata": {},
   "outputs": [],
   "source": []
  },
  {
   "cell_type": "code",
   "execution_count": null,
   "id": "622bbf13-0a26-400e-9945-5e9e9d8c8b8c",
   "metadata": {},
   "outputs": [],
   "source": []
  }
 ],
 "metadata": {
  "kernelspec": {
   "display_name": "Python 3 (ipykernel)",
   "language": "python",
   "name": "python3"
  },
  "language_info": {
   "codemirror_mode": {
    "name": "ipython",
    "version": 3
   },
   "file_extension": ".py",
   "mimetype": "text/x-python",
   "name": "python",
   "nbconvert_exporter": "python",
   "pygments_lexer": "ipython3",
   "version": "3.9.13"
  }
 },
 "nbformat": 4,
 "nbformat_minor": 5
}
